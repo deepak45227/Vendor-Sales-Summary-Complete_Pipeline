{
 "cells": [
  {
   "cell_type": "code",
   "execution_count": 2,
   "id": "6459d992-730a-4758-9dc6-c1f9fa53e8ac",
   "metadata": {},
   "outputs": [],
   "source": [
    "import pandas as pd \n",
    "import numpy as np\n",
    "from sqlalchemy import create_engine \n",
    "import os\n",
    "\n",
    "engine = create_engine('sqlite:///inventory.db')\n",
    "\n",
    "for file in os.listdir('data'):\n",
    "    if '.csv' in file :\n",
    "        df=pd.read_csv('data/'+file)\n",
    "        print(df.shape)\n",
    "        ingest_db(df,file[:-4],engine)\n",
    "        "
   ]
  },
  {
   "cell_type": "code",
   "execution_count": 3,
   "id": "975ebc46-1517-4b40-a7f7-99d33dd39749",
   "metadata": {},
   "outputs": [],
   "source": [
    "def ingest_db(df,table_name,engine ):\n",
    "    df.to_sql(table_name,con=engine ,if_exist='replace' ,index=False)\n",
    "    "
   ]
  },
  {
   "cell_type": "code",
   "execution_count": 4,
   "id": "7b02d9fb-9969-4646-8586-ad0e675d4439",
   "metadata": {},
   "outputs": [],
   "source": [
    "for file in os.listdir('data'):\n",
    "    if '.csv' in file :\n",
    "        df=pd.read_csv('data/'+file)\n",
    "        print(df.shape)\n",
    "        ingest_db(df,file[:-4],engine)\n",
    "        "
   ]
  },
  {
   "cell_type": "code",
   "execution_count": 5,
   "id": "e75c1495-e982-41a1-a44f-79676e5f4438",
   "metadata": {},
   "outputs": [
    {
     "data": {
      "text/plain": [
       "(12825363, 14)"
      ]
     },
     "execution_count": 5,
     "metadata": {},
     "output_type": "execute_result"
    }
   ],
   "source": [
    "df=pd.read_csv(\"data/data/sales.csv\")\n",
    "df.shape"
   ]
  },
  {
   "cell_type": "code",
   "execution_count": null,
   "id": "6fc86d9e-ec19-4b30-a293-159089496396",
   "metadata": {},
   "outputs": [],
   "source": []
  }
 ],
 "metadata": {
  "kernelspec": {
   "display_name": "Python 3 (ipykernel)",
   "language": "python",
   "name": "python3"
  },
  "language_info": {
   "codemirror_mode": {
    "name": "ipython",
    "version": 3
   },
   "file_extension": ".py",
   "mimetype": "text/x-python",
   "name": "python",
   "nbconvert_exporter": "python",
   "pygments_lexer": "ipython3",
   "version": "3.13.5"
  }
 },
 "nbformat": 4,
 "nbformat_minor": 5
}
